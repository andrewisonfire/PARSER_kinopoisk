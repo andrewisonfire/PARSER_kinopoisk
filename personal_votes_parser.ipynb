{
 "cells": [
  {
   "cell_type": "code",
   "execution_count": 1,
   "metadata": {
    "collapsed": true
   },
   "outputs": [],
   "source": [
    "import requests\n",
    "from bs4 import BeautifulSoup\n",
    "\n",
    "import time\n",
    "\n",
    "import pandas as pd\n",
    "import numpy as np\n",
    "\n",
    "import matplotlib.pyplot as plt"
   ]
  },
  {
   "cell_type": "code",
   "execution_count": 60,
   "metadata": {
    "collapsed": false
   },
   "outputs": [],
   "source": [
    "def get_html(adress):\n",
    "    rq_header = {\n",
    "        'User-Agent' : 'Mozilla/5.0 (Windows NT 6.1; W…) Gecko/20100101 Firefox/56.0'\n",
    "    }\n",
    "    #cookies = 'last_visit=2017-10-12+09%3A37%3A52; _ym_uid=15066802161018902005; yandexuid=6800980111494950616; loc2=yes; spravka=dD0xNTA3NzkzNTM0O2k9NzkuMTY1LjI3LjE4Mjt1PTE1MDc3OTM1MzQ0NTg2OTk5NzU7aD1kNDBlNTNkMjg0MjMwNjU3NjQ3MDU4MzQ4NGY3NmY2ZA==; my_perpages=%5B%5D; mykp_button=edit_main; mobile=no; refresh_yandexuid=6800980111494950616; Session_id=3%3A1507484993.5.0.1507484993512%3AthulTw%3AE5.0%7C1110000001562064.-1.0%7C30%3A166575.958233.K4qhXe4aiOn2sUZCKTVuQYiXTfI; tc=1; noflash=true; PHPSESSID=3clsd5uauaq4hq7v7cjm3cn6u6; uid=1562064; user_country=ru; yandex_gid=213; _ym_isad=1; desktop_session_key=2aa1ff6214bd69f49034814a1c9308ec71ca9aa2f10795a32f90b1135e6387e0bf07ef7688421a6e9cdba252f184feb2873892739c61ca29f6a6ef97db4206c7da8b74c32666eae10c14df3b2b455a51; desktop_session_key.sig=GEmzMCJSpb7WiP6KVmwUBULFX90'\n",
    "    S = requests.Session()\n",
    "    RRR = requests.Request('GET', adress)\n",
    "    response = requests.get(adress, headers=rq_header)#, cookies=cookies)\n",
    "    return response.text"
   ]
  },
  {
   "cell_type": "code",
   "execution_count": 3,
   "metadata": {
    "collapsed": true
   },
   "outputs": [],
   "source": [
    "def get_from_tag(string):\n",
    "    string = string[string.find('>')+1:string.find('</')]\n",
    "    return string "
   ]
  },
  {
   "cell_type": "code",
   "execution_count": 4,
   "metadata": {
    "collapsed": true
   },
   "outputs": [],
   "source": [
    "def get_film_score(adress):\n",
    "    '''\n",
    "    возвращает рейтинг imdb и кинопоиска одного фильма по его ссылке\n",
    "    '''\n",
    "    html = get_html(adress)\n",
    "    soup = BeautifulSoup(html,\"lxml\")\n",
    "    \n",
    "    score_block = soup.find('div', class_='block_2')\n",
    "    \n",
    "    score_imdb = score_block.find_all('div')[-1]\n",
    "\n",
    "    str_score_imdb = str(score_imdb)\n",
    "    num_score_imdb = str_score_imdb[str_score_imdb.find('>')+1:str_score_imdb.find('</')]\n",
    "    num_score_imdb = num_score_imdb[num_score_imdb.find(' ')+1:]\n",
    "    num_score_imdb = num_score_imdb[:num_score_imdb.find(' ')]\n",
    "    num_score_imdb = float(num_score_imdb)\n",
    "    \n",
    "    score_kp = my_soup.find('span', class_='rating_ball')\n",
    "\n",
    "    str_score_kp = str(score_kp)\n",
    "    num_score_kp = float(str_score_kp[str_score_kp.find('>')+1:str_score_kp.find('</')])\n",
    "\n",
    "    return num_score_imdb, num_score_kp"
   ]
  },
  {
   "cell_type": "code",
   "execution_count": 83,
   "metadata": {
    "collapsed": true
   },
   "outputs": [],
   "source": [
    "def get_one_vote_info(one_vote):\n",
    "    '''\n",
    "    информация из ячейки одного фильма\n",
    "    '''\n",
    "    film_name = one_vote.find('div', class_='nameRus').find('a').string\n",
    "    film_rating = one_vote.find('div', class_='rating').find('b').string\n",
    "    film_vote = one_vote.find('div', class_='vote').string\n",
    "    \n",
    "    film_ref = one_vote.find('div', class_='nameRus').find('a')\n",
    "    film_ref = str(film_ref)\n",
    "    film_ref = film_ref[film_ref.find('\"/')+2:film_ref.find('/\"')]\n",
    "    \n",
    "    film_votes = one_vote.find('div', class_='rating').find_all('span')[0].string\n",
    "    \n",
    "    film_length = one_vote.find('div', class_='rating').find_all('span')[1].string\n",
    "    \n",
    "    film_name_eng = one_vote.find('div', class_='nameEng').string\n",
    "    \n",
    "    film_vote_date = one_vote.find('div', class_='date').string\n",
    "    \n",
    "    return [film_name,film_ref,film_rating,film_vote,film_votes, film_length, film_name_eng, film_vote_date]"
   ]
  },
  {
   "cell_type": "code",
   "execution_count": 6,
   "metadata": {
    "collapsed": true
   },
   "outputs": [],
   "source": [
    "def get_num_of_pages(votes_soup):\n",
    "    '''\n",
    "    возвращает количество страниц с оценками в профиле пользователя\n",
    "    '''\n",
    "    i = votes_soup.find('div', class_='pagesFromTo').string[votes_soup.find('div', class_='pagesFromTo').string.find(' ')+4:]\n",
    "    return int(i)/50+1"
   ]
  },
  {
   "cell_type": "code",
   "execution_count": 7,
   "metadata": {
    "collapsed": true
   },
   "outputs": [],
   "source": [
    "def get_ref_add(votes_soup):\n",
    "    '''\n",
    "    возвращает добавочную строку к ссылке на страницу с оценками, чтобы открыть nextpage\n",
    "    '''\n",
    "    next_votes_list = votes_soup.find('table', class_='historyVotes').find('ul', class_='list').find_all('li', class_='arr')[-2].find('a')\n",
    "    next_votes_list = str(next_votes_list)\n",
    "    ref_add = next_votes_list[next_votes_list.find('s/')+2:next_votes_list.find('\">')]\n",
    "    return ref_add"
   ]
  },
  {
   "cell_type": "code",
   "execution_count": 8,
   "metadata": {
    "collapsed": true
   },
   "outputs": [],
   "source": [
    "user_id = str(1562064)\n",
    "def get_user_votes(user_id):\n",
    "    t1 = time.time()\n",
    "    user_id = str(user_id)\n",
    "    page_votes = 'https://www.kinopoisk.ru/user/'+user_id+'/votes/'\n",
    "\n",
    "    votes_html = get_html(page_votes)\n",
    "\n",
    "    votes_soup = BeautifulSoup(votes_html, 'lxml')\n",
    "\n",
    "    votes_profileFilmsList = votes_soup.find('div', class_='profileFilmsList')\n",
    "\n",
    "    # получаем 50 оценок \n",
    "    user_votes = []\n",
    "    for i in range(len(votes_profileFilmsList.find_all('div', class_='item'))):\n",
    "        one_vote = votes_profileFilmsList.find_all('div', class_='item')[i]\n",
    "        one_vote_info = get_one_vote_info(one_vote)\n",
    "        user_votes.append(one_vote_info)\n",
    "\n",
    "    for i in range(get_num_of_pages(votes_soup)):\n",
    "        page_votes = 'https://www.kinopoisk.ru/user/'+user_id+'/votes/'\n",
    "        new_page_votes = page_votes+get_ref_add(votes_soup)\n",
    "\n",
    "        votes_html = get_html(new_page_votes)\n",
    "\n",
    "        votes_soup = BeautifulSoup(votes_html, 'lxml')\n",
    "\n",
    "        votes_profileFilmsList = votes_soup.find('div', class_='profileFilmsList')\n",
    "\n",
    "        # получаем 50 оценок \n",
    "        for i in range(len(votes_profileFilmsList.find_all('div', class_='item'))):\n",
    "            one_vote = votes_profileFilmsList.find_all('div', class_='item')[i]\n",
    "            one_vote_info = get_one_vote_info(one_vote)\n",
    "            user_votes.append(one_vote_info)\n",
    "    t2 = time.time()\n",
    "    print t2-t1\n",
    "    return user_votes"
   ]
  },
  {
   "cell_type": "code",
   "execution_count": 84,
   "metadata": {
    "collapsed": false
   },
   "outputs": [
    {
     "name": "stdout",
     "output_type": "stream",
     "text": [
      "36.2409999371\n"
     ]
    }
   ],
   "source": [
    "user_votes = get_user_votes(user_id)"
   ]
  },
  {
   "cell_type": "code",
   "execution_count": 86,
   "metadata": {
    "collapsed": false
   },
   "outputs": [
    {
     "name": "stdout",
     "output_type": "stream",
     "text": [
      "Игра на понижение (2015)\n",
      "film/igra-na-ponizhenie-2015-501333\n",
      "7.263\n",
      "9\n",
      "(66 969)\n",
      "130 мин.\n",
      "The Big Short\n",
      "11.10.2017, 22:43\n"
     ]
    }
   ],
   "source": [
    "for i in range(len(user_votes[0])):\n",
    "    print user_votes[0][i]"
   ]
  },
  {
   "cell_type": "code",
   "execution_count": 87,
   "metadata": {
    "collapsed": true
   },
   "outputs": [],
   "source": [
    "def is_it_a_film(film_name):\n",
    "    if film_name.find(')') - film_name.find('(') <= 5:\n",
    "        return True\n",
    "    else:\n",
    "        return False"
   ]
  },
  {
   "cell_type": "code",
   "execution_count": 88,
   "metadata": {
    "collapsed": false
   },
   "outputs": [],
   "source": [
    "def return_year(film_name):\n",
    "    return film_name[film_name.find('(')+1:film_name.find(')')]"
   ]
  },
  {
   "cell_type": "code",
   "execution_count": 89,
   "metadata": {
    "collapsed": false
   },
   "outputs": [],
   "source": [
    "for i in range(len(user_votes)):\n",
    "    user_votes[i].append(return_year(user_votes[i][0]))\n",
    "    user_votes[i].append(is_it_a_film(user_votes[i][0]))"
   ]
  },
  {
   "cell_type": "code",
   "execution_count": 90,
   "metadata": {
    "collapsed": false
   },
   "outputs": [
    {
     "name": "stdout",
     "output_type": "stream",
     "text": [
      "9\n"
     ]
    }
   ],
   "source": [
    "print str(user_votes[-1][3])"
   ]
  },
  {
   "cell_type": "code",
   "execution_count": 91,
   "metadata": {
    "collapsed": false
   },
   "outputs": [],
   "source": [
    "def get_votes_distrib(user_votes):\n",
    "    votes_distrib = {str(i):0 for i in range(11)}\n",
    "    votes_distrib.update({str(None):0})\n",
    "    for i in range(len(user_votes)):\n",
    "        votes_distrib[str(user_votes[i][3])] += 1\n",
    "    votes_distrib.pop('None')\n",
    "    list_ret = []\n",
    "    for i in range(11):\n",
    "        list_ret.append(votes_distrib[str(i)])\n",
    "    list_votes = []\n",
    "    for i in range(len(user_votes)):\n",
    "        if user_votes[i][3] != None:\n",
    "            list_votes.append(int(user_votes[i][3]))\n",
    "    return list_ret, list_votes"
   ]
  },
  {
   "cell_type": "code",
   "execution_count": 92,
   "metadata": {
    "collapsed": false
   },
   "outputs": [],
   "source": [
    "voDistr, voList = get_votes_distrib(user_votes)"
   ]
  },
  {
   "cell_type": "code",
   "execution_count": 93,
   "metadata": {
    "collapsed": false
   },
   "outputs": [
    {
     "data": {
      "image/png": "[encoded data removed]",
      "text/plain": [
       "<matplotlib.figure.Figure at 0x158423c8>"
      ]
     },
     "metadata": {},
     "output_type": "display_data"
    }
   ],
   "source": [
    "fig = plt.figure()\n",
    "#fig.set_size_inches([12,12])\n",
    "plt.pie(voDistr, labels=[str(i) for i in range(11)])\n",
    "#fig.grid()\n",
    "plt.title('The votes distribution')\n",
    "\n",
    "plt.show()"
   ]
  },
  {
   "cell_type": "code",
   "execution_count": 94,
   "metadata": {
    "collapsed": false
   },
   "outputs": [
    {
     "data": {
      "image/png": "[encoded data removed]",
      "text/plain": [
       "<matplotlib.figure.Figure at 0x15842400>"
      ]
     },
     "metadata": {},
     "output_type": "display_data"
    }
   ],
   "source": [
    "plt.hist(voList)\n",
    "plt.title('The votes distribution')\n",
    "plt.grid()\n",
    "plt.show()"
   ]
  },
  {
   "cell_type": "code",
   "execution_count": 119,
   "metadata": {
    "collapsed": true
   },
   "outputs": [],
   "source": [
    "head = ['nameRus', 'link', 'rating', 'vote', 'numVotes', 'len', 'nameEng', 'dateWatch', 'yearRelease', 'isFilm']\n",
    "data = pd.DataFrame(user_votes, columns=head)\n",
    "csvData = data.to_csv('myKp.csv',encoding='utf-32')"
   ]
  },
  {
   "cell_type": "markdown",
   "metadata": {},
   "source": [
    "the following lines does not work correclty\n",
    "\n",
    "\n",
    "func aimed at info about one movie from its page\n"
   ]
  },
  {
   "cell_type": "code",
   "execution_count": 37,
   "metadata": {
    "collapsed": true
   },
   "outputs": [],
   "source": [
    "def get_film_info(film):\n",
    "    html = get_html(film)\n",
    "    soup = BeautifulSoup(html,\"lxml\")\n",
    "    \n",
    "    info_block = soup.find('table', class_='info')\n",
    "\n",
    "    str_time = u'время'\n",
    "    str_age = u'возраст'\n",
    "    str_money = u'сборы в России'\n",
    "    \n",
    "    print film\n",
    "    \n",
    "    moviename = soup.find('h1', class_='moviename-big')#.string\n",
    "    \n",
    "    info_block_tr = info_block.find_all('tr')\n",
    "\n",
    "    tmp = {}\n",
    "\n",
    "    for i in range(len(info_block_tr)):\n",
    "        if info_block_tr[i].find_all('td')[1].string != None:\n",
    "            tmp.update({info_block_tr[i].find_all('td')[0].string : info_block_tr[i].find_all('td')[1].string})\n",
    "        elif info_block_tr[i].find_all('td')[1].find('a') != None:\n",
    "            list_tmp = []\n",
    "            for a in range(len(info_block_tr[i].find_all('td')[1].find_all('a'))):\n",
    "                list_tmp.append(info_block_tr[i].find_all('td')[1].find_all('a')[a].string)\n",
    "                tmp.update({info_block_tr[i].find_all('td')[0].string:list_tmp})\n",
    "        else:\n",
    "            if info_block_tr[i].find_all('td')[0].string == str_time:\n",
    "                tmp.update({info_block_tr[i].find_all('td')[0].string : get_length(info_block_tr[i].find_all('td')[1])})\n",
    "            elif info_block_tr[i].find_all('td')[0].string == str_age:\n",
    "                tmp.update({info_block_tr[i].find_all('td')[0].string : get_age(info_block_tr[i].find_all('td')[1])})\n",
    "            elif info_block_tr[i].find_all('td')[0].string == str_money:\n",
    "                tmp.update({info_block_tr[i].find_all('td')[0].string : get_money(info_block_tr[i].find_all('td')[1])})\n",
    "                \n",
    "    return {moviename : tmp}"
   ]
  },
  {
   "cell_type": "code",
   "execution_count": 95,
   "metadata": {
    "collapsed": true
   },
   "outputs": [],
   "source": [
    "def make_film_link(inpt):\n",
    "    return 'https://www.kinopoisk.ru/' + inpt"
   ]
  },
  {
   "cell_type": "code",
   "execution_count": 96,
   "metadata": {
    "collapsed": true
   },
   "outputs": [],
   "source": [
    "def get_length(time_tr):\n",
    "    time_tr = str(time_tr)\n",
    "    time_tr = time_tr[time_tr.find('>')+1:]\n",
    "    time_tr = time_tr[:time_tr.find('<')]\n",
    "    return time_tr"
   ]
  },
  {
   "cell_type": "code",
   "execution_count": 97,
   "metadata": {
    "collapsed": true
   },
   "outputs": [],
   "source": [
    "def get_money(money_td):\n",
    "    money_td = money_td.find('div').string\n",
    "    money_td = money_td[money_td.find('$'):]\n",
    "    money_td = money_td[:money_td.find('  ')]\n",
    "    return money_td"
   ]
  },
  {
   "cell_type": "code",
   "execution_count": 98,
   "metadata": {
    "collapsed": true
   },
   "outputs": [],
   "source": [
    "def get_age(age_td):\n",
    "    return age_td.find('span').string"
   ]
  },
  {
   "cell_type": "code",
   "execution_count": 81,
   "metadata": {
    "collapsed": false
   },
   "outputs": [
    {
     "name": "stdout",
     "output_type": "stream",
     "text": [
      "https://www.kinopoisk.ru/film/igra-na-ponizhenie-2015-501333\n"
     ]
    },
    {
     "ename": "AttributeError",
     "evalue": "'NoneType' object has no attribute 'find_all'",
     "output_type": "error",
     "traceback": [
      "\u001b[0;31m---------------------------------------------------------------------------\u001b[0m",
      "\u001b[0;31mAttributeError\u001b[0m                            Traceback (most recent call last)",
      "\u001b[0;32m<ipython-input-81-aaf1fb6ccd35>\u001b[0m in \u001b[0;36m<module>\u001b[0;34m()\u001b[0m\n\u001b[1;32m      3\u001b[0m \u001b[1;32mfor\u001b[0m \u001b[0mi\u001b[0m \u001b[1;32min\u001b[0m \u001b[0mrange\u001b[0m\u001b[1;33m(\u001b[0m\u001b[0mlen\u001b[0m\u001b[1;33m(\u001b[0m\u001b[0muser_votes\u001b[0m\u001b[1;33m)\u001b[0m\u001b[1;33m)\u001b[0m\u001b[1;33m:\u001b[0m\u001b[1;33m\u001b[0m\u001b[0m\n\u001b[1;32m      4\u001b[0m     \u001b[1;31m#print make_film_link(user_votes[i][1])\u001b[0m\u001b[1;33m\u001b[0m\u001b[1;33m\u001b[0m\u001b[0m\n\u001b[0;32m----> 5\u001b[0;31m     \u001b[0mfilms_info\u001b[0m\u001b[1;33m.\u001b[0m\u001b[0mupdate\u001b[0m\u001b[1;33m(\u001b[0m\u001b[0mget_film_info\u001b[0m\u001b[1;33m(\u001b[0m\u001b[0mmake_film_link\u001b[0m\u001b[1;33m(\u001b[0m\u001b[0muser_votes\u001b[0m\u001b[1;33m[\u001b[0m\u001b[0mi\u001b[0m\u001b[1;33m]\u001b[0m\u001b[1;33m[\u001b[0m\u001b[1;36m1\u001b[0m\u001b[1;33m]\u001b[0m\u001b[1;33m)\u001b[0m\u001b[1;33m)\u001b[0m\u001b[1;33m)\u001b[0m\u001b[1;33m\u001b[0m\u001b[0m\n\u001b[0m\u001b[1;32m      6\u001b[0m \u001b[0mt2\u001b[0m \u001b[1;33m=\u001b[0m \u001b[0mtime\u001b[0m\u001b[1;33m.\u001b[0m\u001b[0mtime\u001b[0m\u001b[1;33m(\u001b[0m\u001b[1;33m)\u001b[0m\u001b[1;33m\u001b[0m\u001b[0m\n\u001b[1;32m      7\u001b[0m \u001b[1;32mprint\u001b[0m \u001b[0mt2\u001b[0m\u001b[1;33m-\u001b[0m\u001b[0mt1\u001b[0m\u001b[1;33m\u001b[0m\u001b[0m\n",
      "\u001b[0;32m<ipython-input-37-de9a143bc051>\u001b[0m in \u001b[0;36mget_film_info\u001b[0;34m(film)\u001b[0m\n\u001b[1;32m     12\u001b[0m     \u001b[0mmoviename\u001b[0m \u001b[1;33m=\u001b[0m \u001b[0msoup\u001b[0m\u001b[1;33m.\u001b[0m\u001b[0mfind\u001b[0m\u001b[1;33m(\u001b[0m\u001b[1;34m'h1'\u001b[0m\u001b[1;33m,\u001b[0m \u001b[0mclass_\u001b[0m\u001b[1;33m=\u001b[0m\u001b[1;34m'moviename-big'\u001b[0m\u001b[1;33m)\u001b[0m\u001b[1;31m#.string\u001b[0m\u001b[1;33m\u001b[0m\u001b[0m\n\u001b[1;32m     13\u001b[0m \u001b[1;33m\u001b[0m\u001b[0m\n\u001b[0;32m---> 14\u001b[0;31m     \u001b[0minfo_block_tr\u001b[0m \u001b[1;33m=\u001b[0m \u001b[0minfo_block\u001b[0m\u001b[1;33m.\u001b[0m\u001b[0mfind_all\u001b[0m\u001b[1;33m(\u001b[0m\u001b[1;34m'tr'\u001b[0m\u001b[1;33m)\u001b[0m\u001b[1;33m\u001b[0m\u001b[0m\n\u001b[0m\u001b[1;32m     15\u001b[0m \u001b[1;33m\u001b[0m\u001b[0m\n\u001b[1;32m     16\u001b[0m     \u001b[0mtmp\u001b[0m \u001b[1;33m=\u001b[0m \u001b[1;33m{\u001b[0m\u001b[1;33m}\u001b[0m\u001b[1;33m\u001b[0m\u001b[0m\n",
      "\u001b[0;31mAttributeError\u001b[0m: 'NoneType' object has no attribute 'find_all'"
     ]
    }
   ],
   "source": [
    "films_info = {}\n",
    "t1 = time.time()\n",
    "for i in range(len(user_votes)):\n",
    "    #print make_film_link(user_votes[i][1])\n",
    "    films_info.update(get_film_info(make_film_link(user_votes[i][1])))\n",
    "t2 = time.time()\n",
    "print t2-t1"
   ]
  }
 ],
 "metadata": {
  "anaconda-cloud": {},
  "kernelspec": {
   "display_name": "Python [default]",
   "language": "python",
   "name": "python2"
  },
  "language_info": {
   "codemirror_mode": {
    "name": "ipython",
    "version": 2
   },
   "file_extension": ".py",
   "mimetype": "text/x-python",
   "name": "python",
   "nbconvert_exporter": "python",
   "pygments_lexer": "ipython2",
   "version": "2.7.12"
  }
 },
 "nbformat": 4,
 "nbformat_minor": 1
}
